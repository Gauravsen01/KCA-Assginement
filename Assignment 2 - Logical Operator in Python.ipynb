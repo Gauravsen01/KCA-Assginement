{
 "cells": [
  {
   "cell_type": "markdown",
   "id": "598da8f7",
   "metadata": {},
   "source": [
    "# Logical Operator  \n",
    "## The goal of this assignment is to understand and apply logical operator (AND, OR, NOT) in combination with relational operators to solve variours problems.\n",
    "\n",
    "## Task 1. Basic logical Operators\n",
    "\n",
    "Write a program that:\n",
    "  \n",
    "1. Accepts three boolean values (e.g., True or False).\n",
    "\n",
    "2. Demonstrates the use of the following logical operators:\n",
    "\n",
    "* AND (&&)\n",
    "\n",
    "* OR (II)\n",
    "\n",
    "* NOT (!)\n",
    "\n",
    "3. Print the results of various combinations of these values with the operators.\n"
   ]
  },
  {
   "cell_type": "markdown",
   "id": "8a370f60",
   "metadata": {},
   "source": [
    "### There are total 3 Logical operators in Total (AND, OR, NOT)"
   ]
  },
  {
   "cell_type": "code",
   "execution_count": 75,
   "id": "560745e7",
   "metadata": {},
   "outputs": [
    {
     "name": "stdout",
     "output_type": "stream",
     "text": [
      "1. True\n",
      "# Returning result in True because both the condition is True.\n",
      "2. False\n",
      "# Returning result in False because both the condition haven't met.\n",
      "3. True\n",
      "# Returning result in True because one  condition is True.\n",
      "4. False\n",
      "# Returning result in False because Both condition is not True.\n",
      "Name and Age is correct but to make it false we have used not before expression with the combination of and Operator\n"
     ]
    },
    {
     "data": {
      "text/plain": [
       "False"
      ]
     },
     "execution_count": 75,
     "metadata": {},
     "output_type": "execute_result"
    }
   ],
   "source": [
    "## Logical operators give the result in bool data type (True, False)\n",
    "\n",
    "## 1. AND operator returns True when Both the condition are True or both the condition met.\n",
    "\n",
    "## 2. OR operator returns True if any one conditon is true or anyone condition met.\n",
    "\n",
    "## 3. The NOT operator is a unary logical operator. It inverts the truth value of a condition: \n",
    "##   - If the condition is True, NOT makes it False.\n",
    "##   - If the condition is False, NOT makes it True.\n",
    "\n",
    "\n",
    "Name = \"Gaurav\"\n",
    "Age = 25\n",
    "Location = \"Indore\"\n",
    "\n",
    "# AND Operator\n",
    "\n",
    "print(\"1.\", Name == \"Gaurav\" and Location == \"Indore\"), print(\"# Returning result in True because both the condition is True.\")\n",
    "print(\"2.\", Name == \"Kajal\" and Age == 25), print(\"# Returning result in False because both the condition haven't met.\")\n",
    "\n",
    "# OR Operator\n",
    "print(\"3.\", Name == \"Gaurav\" or Location == 14),  print(\"# Returning result in True because one  condition is True.\")\n",
    "print(\"4.\", Name == \"Gaura\" or Location == \"25\"),  print(\"# Returning result in False because Both condition is not True.\")\n",
    "\n",
    "# Not Operator\n",
    "\n",
    "print(\"Name and Age is correct but to make it false we have used not before expression with the combination of and Operator\")\n",
    "not Name == \"Gaurav\" and not Age == 25\n",
    "\n"
   ]
  },
  {
   "cell_type": "markdown",
   "id": "f1c05060",
   "metadata": {},
   "source": [
    "## Task 2. Checking ranges using logical Operators \n",
    "\n",
    "Write a program to:\n",
    "\n",
    "1. Accept a number from the user.\n",
    "\n",
    "2. Check if the number falls within the range 10-20 inclusive using logical operators.\n",
    "\n",
    "3. Print whether the number is in range or not."
   ]
  },
  {
   "cell_type": "code",
   "execution_count": 8,
   "id": "d0a9511d",
   "metadata": {},
   "outputs": [
    {
     "name": "stdout",
     "output_type": "stream",
     "text": [
      "Enter the Number12\n",
      "The number is in the range\n"
     ]
    }
   ],
   "source": [
    "num = int(input(\"Enter the Number\"))\n",
    "\n",
    "if num>=10 and num<=20:\n",
    "    print(\"The number is in the range\")\n",
    "else:\n",
    "    print(\"The number is not in the range\")"
   ]
  },
  {
   "cell_type": "markdown",
   "id": "8e89e988",
   "metadata": {},
   "source": [
    "## Task 3: Leap Year Checker\n",
    "\n",
    "Write a program to:\n",
    "\n",
    "1. Accept a year as input.\n",
    "\n",
    "2. Determine if the year is a leap year using logical operators. A year is a leap year if:\n",
    "\n",
    "* It is divisible by 4 and not divisible by 100.\n",
    "\n",
    "* OR it is divisible by 400."
   ]
  },
  {
   "cell_type": "code",
   "execution_count": 3,
   "id": "2ad5afdc",
   "metadata": {},
   "outputs": [
    {
     "name": "stdout",
     "output_type": "stream",
     "text": [
      "Enter the year2004\n",
      "It's a leap year\n"
     ]
    }
   ],
   "source": [
    "year = int(input(\"Enter the year\"))\n",
    "\n",
    "if (year%4 == 0 and year % 100 != 0) or (year % 400 == 0):\n",
    "    print(\"It's a leap year\")\n",
    "else:\n",
    "    print(\"It's not a lear year\")"
   ]
  },
  {
   "cell_type": "markdown",
   "id": "efed4683",
   "metadata": {},
   "source": [
    "## Task 4. Password Validation\n",
    "\n",
    "Write a program to:\n",
    "\n",
    "1. Accept a password from the user.\n",
    "\n",
    "2. Validate the password using the following criteria with logical operators:\n",
    "\n",
    "Must be at least 8 characters long.\n",
    "\n",
    "* Must contain at least one digit (0-9).\n",
    "\n",
    "Must contain at least one uppercase letter (A-Z).\n",
    "\n",
    "* Must contain at least one lowercase letter (a-z).\n",
    "\n",
    "3. Print whether the password is valid or not."
   ]
  },
  {
   "cell_type": "code",
   "execution_count": null,
   "id": "da50a724",
   "metadata": {},
   "outputs": [],
   "source": []
  },
  {
   "cell_type": "code",
   "execution_count": 2,
   "id": "c2e17e83",
   "metadata": {},
   "outputs": [
    {
     "name": "stdout",
     "output_type": "stream",
     "text": [
      "Enter the passwordGaurav123\n",
      "password is valid\n"
     ]
    }
   ],
   "source": [
    "password = input(\"Enter the password\")\n",
    "\n",
    "length = len(password) >=8\n",
    "digit = any(char.isdigit() for char in password)\n",
    "upper = any(char.isupper() for char in password)\n",
    "lower = any(char.islower() for char in password)\n",
    "\n",
    "if length and digit and upper and lower:\n",
    "    print(\"password is valid\")\n",
    "else:\n",
    "    print(\"Password is invalid\")\n"
   ]
  },
  {
   "cell_type": "markdown",
   "id": "a340467f",
   "metadata": {},
   "source": [
    "## Task 5: Number Properties\n",
    "\n",
    "Write a program to:\n",
    "\n",
    "1. Accept three numbers from the user.\n",
    "\n",
    "AIN ANALYT\n",
    "\n",
    "2. Check and print the following properties using logical operators:\n",
    "\n",
    "If all three numbers are positive.\n",
    "\n",
    "If at least one number is even.\n",
    "\n",
    "If none of the numbers is negative."
   ]
  },
  {
   "cell_type": "code",
   "execution_count": 10,
   "id": "d76a2ad3",
   "metadata": {},
   "outputs": [
    {
     "name": "stdout",
     "output_type": "stream",
     "text": [
      "Enter the 1st number4\n",
      "Enter the 2nd number10\n",
      "Enter the 3rd number2\n",
      "4 10 2\n"
     ]
    }
   ],
   "source": [
    "number1 = int(input(\"Enter the 1st number\"))\n",
    "number2 = int(input(\"Enter the 2nd number\"))\n",
    "number3 = int(input(\"Enter the 3rd number\"))\n",
    "\n",
    "if (number1>0 and number2>0 and number3>0) and \\\n",
    "   (number1 % 2 == 0 or number2 % 2 == 0 or number3 % 2 == 0):\n",
    "    print(number1,number2,number3)\n",
    "else:\n",
    "    print(\"The numbers do not meet the condition\")\n"
   ]
  },
  {
   "cell_type": "markdown",
   "id": "8b0b52e9",
   "metadata": {},
   "source": [
    "## Bonus Task : Truth Table Generator\n",
    "\n",
    "Write a program to generate and print the truth table for two boolean variables (A and B) with logical operators (AND, OR, NOT).\n",
    "\n"
   ]
  },
  {
   "cell_type": "code",
   "execution_count": 11,
   "id": "8a905912",
   "metadata": {},
   "outputs": [
    {
     "name": "stdout",
     "output_type": "stream",
     "text": [
      "A     B     A AND B  A OR B   NOT A   NOT B\n",
      "1     1     1        1        0       0       \n",
      "1     0     0        1        0       1       \n",
      "0     1     0        1        1       0       \n",
      "0     0     0        0        1       1       \n"
     ]
    }
   ],
   "source": [
    "# Print the header of the truth table\n",
    "print(\"A     B     A AND B  A OR B   NOT A   NOT B\")\n",
    "\n",
    "# Loop through all possible combinations of A and B\n",
    "for A in [True, False]:\n",
    "    for B in [True, False]:\n",
    "        print(f\"{A:<6}{B:<6}{A and B:<9}{A or B:<9}{not A:<8}{not B:<8}\")\n"
   ]
  },
  {
   "cell_type": "code",
   "execution_count": null,
   "id": "46e76a4b",
   "metadata": {},
   "outputs": [],
   "source": []
  }
 ],
 "metadata": {
  "kernelspec": {
   "display_name": "Python 3 (ipykernel)",
   "language": "python",
   "name": "python3"
  },
  "language_info": {
   "codemirror_mode": {
    "name": "ipython",
    "version": 3
   },
   "file_extension": ".py",
   "mimetype": "text/x-python",
   "name": "python",
   "nbconvert_exporter": "python",
   "pygments_lexer": "ipython3",
   "version": "3.10.9"
  }
 },
 "nbformat": 4,
 "nbformat_minor": 5
}
