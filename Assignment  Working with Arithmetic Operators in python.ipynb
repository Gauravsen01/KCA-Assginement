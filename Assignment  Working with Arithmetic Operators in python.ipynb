{
 "cells": [
  {
   "cell_type": "markdown",
   "id": "2016ab6f",
   "metadata": {},
   "source": [
    "## 1. Basic Calculator  "
   ]
  },
  {
   "cell_type": "code",
   "execution_count": 4,
   "id": "fff4f1e7",
   "metadata": {},
   "outputs": [
    {
     "name": "stdout",
     "output_type": "stream",
     "text": [
      "Enter the 1st number: 10\n",
      "Enter the 2nd number: 20\n",
      "Addition: 30\n",
      "subtraction: -10\n",
      "multiplication: 200\n",
      "division: 0.5\n",
      "modulus: 10\n",
      "exponentiation: 100000000000000000000\n",
      "floor division: 0\n"
     ]
    }
   ],
   "source": [
    "a = int(input(\"Enter the 1st number: \"))\n",
    "b = int(input(\"Enter the 2nd number: \"))\n",
    "\n",
    "#addition\n",
    "print(\"Addition:\", a+b)\n",
    "\n",
    "#subtraction\n",
    "print(\"subtraction:\", a-b)\n",
    "\n",
    "#multiplication\n",
    "print(\"multiplication:\", a*b)\n",
    "\n",
    "#division\n",
    "print(\"division:\", a/b)\n",
    "\n",
    "#modulus\n",
    "print(\"modulus:\", a%b)\n",
    "\n",
    "#exponentiation\n",
    "print(\"exponentiation:\", a**b)\n",
    "\n",
    "#floor division\n",
    "print(\"floor division:\", a//b)"
   ]
  },
  {
   "cell_type": "markdown",
   "id": "4766bdb6",
   "metadata": {},
   "source": [
    "## 2. Circle Area and Circumderence"
   ]
  },
  {
   "cell_type": "code",
   "execution_count": 7,
   "id": "4dff64f2",
   "metadata": {},
   "outputs": [
    {
     "name": "stdout",
     "output_type": "stream",
     "text": [
      "Enter the radius of the circle:20\n",
      "1. Circumference of the cirle : 125.6637061436\n",
      "2. Area of the circle : 1256.637061436\n"
     ]
    }
   ],
   "source": [
    "# Note: the value of the pi is 3.14159265359\n",
    "# In both the cases we used the basic formulas, for area of circle (pir^2) and for circumference of circle (2pir)\n",
    "\n",
    "radius = int(input(\"Enter the radius of the circle:\"))\n",
    "\n",
    "print(\"1. Circumference of the cirle :\", 2*3.14159265359*radius)\n",
    "print(\"2. Area of the circle :\", 3.14159265359*radius**2 )"
   ]
  },
  {
   "cell_type": "markdown",
   "id": "338febec",
   "metadata": {},
   "source": [
    "## 3. Rectangle Perimeter and Area"
   ]
  },
  {
   "cell_type": "code",
   "execution_count": null,
   "id": "a6639655",
   "metadata": {},
   "outputs": [],
   "source": [
    "# In order to print the area of rectangle we need do basic math, by just multiplying length and width we can calcualte the area of the rectangle.\n",
    "# In order to print the perimeter of rectangle, we add the length and the width and square it to get the result.\n",
    "\n",
    "length = int(input(\"Enter the length of the rectangle\"))\n",
    "width = int(input(\"Enter the width of the rectangle\"))\n",
    "\n",
    "print(\"1. Area of the rectangle :\", length*width)\n",
    "print(\"2. Perimeter of the rectangle :\", (length+width)*2 ) "
   ]
  },
  {
   "cell_type": "markdown",
   "id": "71470e5a",
   "metadata": {},
   "source": [
    "## 4. Average of Numbers"
   ]
  },
  {
   "cell_type": "code",
   "execution_count": 8,
   "id": "5d800838",
   "metadata": {},
   "outputs": [
    {
     "name": "stdout",
     "output_type": "stream",
     "text": [
      "Enter 1st number :1\n",
      "Enter 2nd number :2\n",
      "Enter 3rd number :2\n",
      "Average of the Given three numbers  :is 3.6666666666666665\n"
     ]
    }
   ],
   "source": [
    "#Taken input from the user 3 times and to print average of all three number using arithmetic operators we used addition and division.\n",
    "\n",
    "a = int(input(\"Enter 1st number :\"))\n",
    "b = int(input(\"Enter 2nd number :\"))\n",
    "c = int(input(\"Enter 3rd number :\"))\n",
    "\n",
    "print(\"Average of the Given three numbers  :is\", a+b+c/3)"
   ]
  },
  {
   "cell_type": "markdown",
   "id": "0b98b1ac",
   "metadata": {},
   "source": [
    "## 5. Unit Conversion (Celcius to Fahrenheit)"
   ]
  },
  {
   "cell_type": "code",
   "execution_count": 5,
   "id": "020c57f6",
   "metadata": {},
   "outputs": [
    {
     "name": "stdout",
     "output_type": "stream",
     "text": [
      "Enter the temperature in Celsius : 20\n",
      "Temperature in Fehrenheit : 68.0\n"
     ]
    }
   ],
   "source": [
    "# taking input from the user in celcius\n",
    "\n",
    "celcius = int(input(\"Enter the temperature in Celsius : \"))\n",
    "\n",
    "print(\"Temperature in Fehrenheit :\", ((celcius*9/5)+32))\n"
   ]
  },
  {
   "cell_type": "code",
   "execution_count": null,
   "id": "84222a44",
   "metadata": {},
   "outputs": [],
   "source": []
  }
 ],
 "metadata": {
  "kernelspec": {
   "display_name": "Python 3 (ipykernel)",
   "language": "python",
   "name": "python3"
  },
  "language_info": {
   "codemirror_mode": {
    "name": "ipython",
    "version": 3
   },
   "file_extension": ".py",
   "mimetype": "text/x-python",
   "name": "python",
   "nbconvert_exporter": "python",
   "pygments_lexer": "ipython3",
   "version": "3.10.9"
  }
 },
 "nbformat": 4,
 "nbformat_minor": 5
}
