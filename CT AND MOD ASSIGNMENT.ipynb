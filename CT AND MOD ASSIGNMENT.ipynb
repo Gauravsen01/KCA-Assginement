{
 "cells": [
  {
   "cell_type": "markdown",
   "id": "96715e41",
   "metadata": {},
   "source": [
    "# Part A 'Cental Tendancy'\n",
    "## 1.Mean, Median, Mode\n"
   ]
  },
  {
   "cell_type": "code",
   "execution_count": 9,
   "id": "fa876be5",
   "metadata": {},
   "outputs": [
    {
     "name": "stdout",
     "output_type": "stream",
     "text": [
      "1. Mean for the given data set is 15.3\n",
      "1. Mean for the given data set is 15.3\n",
      "2. Median for the given data set is : 14.5\n",
      "3. Mode for the given data set is 14\n"
     ]
    }
   ],
   "source": [
    "data = [12, 15, 12, 14, 16, 14, 14, 18, 20, 18]\n",
    "\n",
    "#finding mean - 1st method\n",
    "mean = sum(data)/len(data)\n",
    "print(\"1. Mean for the given data set is\", mean)\n",
    "\n",
    "\n",
    "#finding mean - 2nd method\n",
    "#import required library for perform statistical \n",
    "\n",
    "import statistics \n",
    "\n",
    "print(\"1. Mean for the given data set is\", statistics.mean(data))\n",
    "\n",
    "\n",
    "#finding median \n",
    "\n",
    "print(\"2. Median for the given data set is :\", statistics.median(data))\n",
    "\n",
    "\n",
    "#finding mode\n",
    "\n",
    "print(\"3. Mode for the given data set is\", statistics.mode(data))"
   ]
  },
  {
   "cell_type": "markdown",
   "id": "b2276638",
   "metadata": {},
   "source": [
    "## 2. Weighted mean \n"
   ]
  },
  {
   "cell_type": "code",
   "execution_count": 91,
   "id": "0e58434e",
   "metadata": {},
   "outputs": [
    {
     "name": "stdout",
     "output_type": "stream",
     "text": [
      "Weighted mean for the given data set is: 30\n"
     ]
    }
   ],
   "source": [
    "#Calculate the weighted mean for the following data\n",
    "\n",
    "values = [10,20,30,40]\n",
    "\n",
    "weights = 1,2,3,4\n",
    "\n",
    "weighted_mean = sum(v*w for v,w in zip(values, weights))//sum(weights)\n",
    "\n",
    "print(\"Weighted mean for the given data set is:\", weighted_mean)"
   ]
  },
  {
   "cell_type": "markdown",
   "id": "08233b0f",
   "metadata": {},
   "source": [
    "## 3. Mean of Grouped data"
   ]
  },
  {
   "cell_type": "code",
   "execution_count": 103,
   "id": "6bc7ab04",
   "metadata": {},
   "outputs": [
    {
     "name": "stdout",
     "output_type": "stream",
     "text": [
      "35\n"
     ]
    }
   ],
   "source": [
    "# calculate the mean for the following grouped data using the formula for grouped data\n",
    "\n",
    "class_interval = [(10,20), (20,30), (30,40), (40,50)]\n",
    "frequency = [5,10,15,20]\n",
    "\n",
    "\n",
    "#first we need to find out the mid point of our each class interval\n",
    "# calculate midpoint\n",
    "\n",
    "midpoint = [(lower + upper)//2 for lower,upper in (class_interval)]\n",
    "\n",
    "mf = [m*f for m,f in zip(midpoint,frequency)]\n",
    "\n",
    "fr = frequency\n",
    "\n",
    "grouped_mean = sum(mf)//sum(fr)\n",
    "\n",
    "print(grouped_mean)\n"
   ]
  },
  {
   "cell_type": "markdown",
   "id": "09580185",
   "metadata": {},
   "source": [
    "# Part B 'Measure of Dispersion' \n",
    "## 4. Range & Interquartile Range (IQR)"
   ]
  },
  {
   "cell_type": "code",
   "execution_count": 130,
   "id": "53c35107",
   "metadata": {},
   "outputs": [
    {
     "name": "stdout",
     "output_type": "stream",
     "text": [
      "Range of the mop_data: 32\n"
     ]
    }
   ],
   "source": [
    "#Find the range \n",
    "\n",
    "mop_data = [8, 10, 15, 20, 25, 30, 35, 40]\n",
    "\n",
    "range_ = max(mop_data)-min(mop_data)\n",
    "\n",
    "print(\"Range of the mop_data:\", range_)\n",
    "\n",
    "\n"
   ]
  },
  {
   "cell_type": "code",
   "execution_count": 131,
   "id": "ed2e976f",
   "metadata": {},
   "outputs": [
    {
     "name": "stdout",
     "output_type": "stream",
     "text": [
      "20\n"
     ]
    }
   ],
   "source": [
    "#Find the IQR for the following data\n",
    "\n",
    "# step 1. first we sort the data means arrange the data in assending order\n",
    "mop_data.sort()\n",
    "\n",
    "# Step 2: Split data into two halves\n",
    "\n",
    "n = len(mop_data)\n",
    "\n",
    "lower_half = mop_data[:n//2]\n",
    "upper_half = mop_data[(n+1)//2:]\n",
    "\n",
    "# step 3. find median of lower half and upper half \n",
    "\n",
    "Q1 = lower_half[len(lower_half)//2]\n",
    "Q3 = upper_half[len(upper_half)//2]\n",
    "\n",
    "IQR = Q3 - Q1\n",
    "\n",
    "print(IQR)"
   ]
  },
  {
   "cell_type": "markdown",
   "id": "0564921e",
   "metadata": {},
   "source": [
    "## 5. Variance and Standard Daviation (Ungrouped Data)"
   ]
  },
  {
   "cell_type": "code",
   "execution_count": 51,
   "id": "24742c0e",
   "metadata": {},
   "outputs": [
    {
     "name": "stdout",
     "output_type": "stream",
     "text": [
      "1. Variance for the variance data: 4\n",
      "2. Standard Deviation of Variance data: 2.0\n"
     ]
    }
   ],
   "source": [
    "# Calculate the Variance and Standard Daviation for the following data:\n",
    "\n",
    "variance_data = [4, 8, 6, 5, 3, 7 , 9]\n",
    "\n",
    "import statistics\n",
    "\n",
    "mean = sum(variance_data)//len(variance_data)\n",
    "\n",
    "variance_data.sort() \n",
    "\n",
    "xi_xbar_squared = [(x - mean)**2 for x in (variance_data)]\n",
    "\n",
    "\n",
    "variance = sum(xi_xbar_squared)//len(xi_xbar_squared)\n",
    "print(\"1. Variance for the variance data:\", variance)\n",
    "\n",
    "std_deviation = variance**0.5\n",
    "print(\"2. Standard Deviation of Variance data:\", std_deviation)\n",
    "\n",
    "\n",
    "\n",
    "\n",
    "\n",
    "\n"
   ]
  },
  {
   "cell_type": "markdown",
   "id": "db1f70ad",
   "metadata": {},
   "source": [
    "##  6. Variance and Standard Deviation (Grouped Data)"
   ]
  },
  {
   "cell_type": "code",
   "execution_count": 154,
   "id": "5e4a0484",
   "metadata": {},
   "outputs": [
    {
     "name": "stdout",
     "output_type": "stream",
     "text": [
      "1. Mid Points for the given Class Interval: [5, 15, 25, 35]\n",
      "2. Product of midpoint and frequency: [20, 90, 200, 70]\n",
      "3. Mean: 19\n",
      "4. (Xi - Xbar)**2: [196, 16, 36, 256]\n",
      "5. Weighted Mean: [784, 96, 288, 512]\n",
      "6. Variance: 84.0\n",
      "7. Standard Deviation: 9.17\n"
     ]
    }
   ],
   "source": [
    "# Calculate the variance and Standard devaition for the foll. grouped data\n",
    "\n",
    "Class_Interval = [(0,10),(10,20),(20,30),(30,40)]\n",
    "\n",
    "Frequency = 4, 6, 8, 2\n",
    "\n",
    "\n",
    "#calculate the midpoint\n",
    "new_midpoint = [(lower+upper)//2 for lower,upper in (Class_Interval)]\n",
    "print(\"1. Mid Points for the given Class Interval:\", new_midpoint)\n",
    "\n",
    "#Calculate the mean\n",
    "nm_f = [nm*f for nm,f in zip (new_midpoint,Frequency)] # mutliplication of frequency of each midpoint of a class Interval\n",
    "print(\"2. Product of midpoint and frequency:\", nm_f)\n",
    "new_mean = sum(nm_f)//sum(Frequency)\n",
    "print(\"3. Mean:\", new_mean)\n",
    "\n",
    "#Calculate the difference between mean and each data point and squared the deviation\n",
    "xi_minus_Xbar_squared = [(new_mean-m)**2 for m in new_midpoint]\n",
    "print(\"4. (Xi - Xbar)**2:\", xi_minus_Xbar_squared)\n",
    "\n",
    "#calculating the weighted deviation \n",
    "weighted_deviation = [x*f for x,f in zip(xi_minus_Xbar_squared,Frequency)]\n",
    "print(\"5. Weighted Mean:\",weighted_deviation)\n",
    "\n",
    "#Calculating Variance \n",
    "new_variance = sum(weighted_deviation)/sum(Frequency)\n",
    "print(\"6. Variance:\", round(new_variance,2))\n",
    "\n",
    "#Calculating Standard Deviation\n",
    "new_Standard_deviation  = (new_variance)**0.5\n",
    "print(\"7. Standard Deviation:\",round(new_Standard_deviation,2))\n",
    "\n",
    "\n",
    " \n"
   ]
  },
  {
   "cell_type": "markdown",
   "id": "1c9984ad",
   "metadata": {},
   "source": [
    "## 7. Coefficient of Variance (CV)"
   ]
  },
  {
   "cell_type": "code",
   "execution_count": 171,
   "id": "b46fcf0b",
   "metadata": {},
   "outputs": [
    {
     "name": "stdout",
     "output_type": "stream",
     "text": [
      "The Coefficient of Variance is: 20.00%\n"
     ]
    }
   ],
   "source": [
    "# Compute the coefficient of variance for the foll. data\n",
    "\n",
    "#calculate the Coefficient of variance\n",
    "cv_mean = 25\n",
    "cv_sd = 5\n",
    "\n",
    "COV = (cv_sd/cv_mean)*100\n",
    "print(f\"The Coefficient of Variance is: {COV:.2f}%\")\n",
    "\n",
    "\n",
    "# cv: The variable whose value you want to display.\n",
    "# :: Introduces the formatting specification.\n",
    "# .2f: Formats the number as a floating-point value with 2 decimal places.\n",
    "# %: Adds a percentage sign after the value."
   ]
  },
  {
   "cell_type": "markdown",
   "id": "2d04c6f5",
   "metadata": {},
   "source": [
    "# part : C (Application)"
   ]
  },
  {
   "cell_type": "markdown",
   "id": "98454839",
   "metadata": {},
   "source": [
    "## 8. Data Comparison "
   ]
  },
  {
   "cell_type": "code",
   "execution_count": 173,
   "id": "0cacf7e4",
   "metadata": {},
   "outputs": [],
   "source": [
    "# Compare the dispersion of the two data sets using the standard deviation\n",
    "\n",
    "data_set1 = [10,12,14,16,18]\n",
    "data_set2 = [20,22,24,26,28]\n",
    "\n"
   ]
  },
  {
   "cell_type": "code",
   "execution_count": null,
   "id": "85d52dfc",
   "metadata": {},
   "outputs": [],
   "source": []
  }
 ],
 "metadata": {
  "kernelspec": {
   "display_name": "Python 3 (ipykernel)",
   "language": "python",
   "name": "python3"
  },
  "language_info": {
   "codemirror_mode": {
    "name": "ipython",
    "version": 3
   },
   "file_extension": ".py",
   "mimetype": "text/x-python",
   "name": "python",
   "nbconvert_exporter": "python",
   "pygments_lexer": "ipython3",
   "version": "3.10.9"
  }
 },
 "nbformat": 4,
 "nbformat_minor": 5
}
